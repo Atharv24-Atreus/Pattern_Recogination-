{
  "nbformat": 4,
  "nbformat_minor": 0,
  "metadata": {
    "colab": {
      "provenance": [],
      "authorship_tag": "ABX9TyMhXlhmdhO7/ORtpkbdBIY4",
      "include_colab_link": true
    },
    "kernelspec": {
      "name": "python3",
      "display_name": "Python 3"
    },
    "language_info": {
      "name": "python"
    }
  },
  "cells": [
    {
      "cell_type": "markdown",
      "metadata": {
        "id": "view-in-github",
        "colab_type": "text"
      },
      "source": [
        "<a href=\"https://colab.research.google.com/github/Atharv24-Atreus/Pattern_Recogination-/blob/main/PatternExp6_1.ipynb\" target=\"_parent\"><img src=\"https://colab.research.google.com/assets/colab-badge.svg\" alt=\"Open In Colab\"/></a>"
      ]
    },
    {
      "cell_type": "code",
      "execution_count": null,
      "metadata": {
        "colab": {
          "base_uri": "https://localhost:8080/"
        },
        "id": "TSX_G8bs0eoO",
        "outputId": "849406e1-c389-48f3-e711-9185aacec12f"
      },
      "outputs": [
        {
          "output_type": "stream",
          "name": "stdout",
          "text": [
            "Validation Accuracy: 67.72%\n",
            "Test Accuracy: 67.12%\n",
            "\n",
            "Classification Report:\n",
            "               precision    recall  f1-score   support\n",
            "\n",
            "           0       0.64      0.53      0.58      2137\n",
            "           1       0.69      0.78      0.73      2863\n",
            "\n",
            "    accuracy                           0.67      5000\n",
            "   macro avg       0.66      0.65      0.65      5000\n",
            "weighted avg       0.67      0.67      0.67      5000\n",
            "\n"
          ]
        }
      ],
      "source": [
        "import pandas as pd\n",
        "import numpy as np\n",
        "from sklearn.model_selection import train_test_split\n",
        "from sklearn.preprocessing import StandardScaler\n",
        "from sklearn.svm import SVC\n",
        "from sklearn.metrics import accuracy_score, classification_report\n",
        "\n",
        "# Load dataset\n",
        "csv_file_path = \"Height_Weight_Dataa.csv\"\n",
        "df = pd.read_csv(csv_file_path)\n",
        "\n",
        "# Drop the index column\n",
        "df = df.drop(columns=[\"Index\"])\n",
        "\n",
        "# Create weight categories\n",
        "def weight_category(weight):\n",
        "    if weight < 125:\n",
        "        return 0  # Underweight\n",
        "    elif weight < 175:\n",
        "        return 1  # Normal weight\n",
        "    else:\n",
        "        return 2  # Overweight\n",
        "\n",
        "df[\"Weight_Category\"] = df[\"Weight(Pounds)\"].apply(weight_category)\n",
        "\n",
        "# Define features and target\n",
        "X = df[[\"Height(Inches)\"]]\n",
        "y = df[\"Weight_Category\"]\n",
        "\n",
        "# Normalize features\n",
        "scaler = StandardScaler()\n",
        "X_scaled = scaler.fit_transform(X)\n",
        "\n",
        "# Split data: 60% train, 20% validation, 20% test\n",
        "X_train, X_temp, y_train, y_temp = train_test_split(X_scaled, y, test_size=0.4, random_state=42, stratify=y)\n",
        "X_val, X_test, y_val, y_test = train_test_split(X_temp, y_temp, test_size=0.5, random_state=42, stratify=y_temp)\n",
        "\n",
        "# Train SVM classifier\n",
        "svm_classifier = SVC(kernel=\"linear\", random_state=42)\n",
        "svm_classifier.fit(X_train, y_train)\n",
        "\n",
        "# Validate model\n",
        "y_val_pred = svm_classifier.predict(X_val)\n",
        "validation_accuracy = accuracy_score(y_val, y_val_pred)\n",
        "\n",
        "# Test model\n",
        "y_test_pred = svm_classifier.predict(X_test)\n",
        "test_accuracy = accuracy_score(y_test, y_test_pred)\n",
        "\n",
        "# Generate classification report\n",
        "classification_rep = classification_report(y_test, y_test_pred)\n",
        "\n",
        "# Display results\n",
        "print(f\"Validation Accuracy: {validation_accuracy * 100:.2f}%\")\n",
        "print(f\"Test Accuracy: {test_accuracy * 100:.2f}%\")\n",
        "print(\"\\nClassification Report:\\n\", classification_rep)"
      ]
    },
    {
      "cell_type": "code",
      "source": [],
      "metadata": {
        "id": "ZCFjMQP60kYb"
      },
      "execution_count": null,
      "outputs": []
    }
  ]
}